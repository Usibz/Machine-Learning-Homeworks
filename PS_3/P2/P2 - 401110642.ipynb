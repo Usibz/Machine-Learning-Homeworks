{
 "cells": [
  {
   "cell_type": "markdown",
   "metadata": {
    "collapsed": false
   },
   "source": [
    "# Optimization Techniques on MNIST Dataset\n",
    "This notebook explores various optimization techniques for training neural networks on the MNIST dataset. The focus will be on different optimization strategies including Adaptive Learning Rates, SGD, Mini-Batch Gradient Descent, and Learning Rate Adjustments. Each section will provide a practical task related to these techniques.\n",
    "\n",
    "-- name: Yousef Miryousefi\n",
    "-- student ID: 401110642"
   ]
  },
  {
   "cell_type": "code",
   "execution_count": 38,
   "metadata": {
    "id": "ywjE9LpmlXP1",
    "ExecuteTime": {
     "end_time": "2024-12-07T13:13:36.098792Z",
     "start_time": "2024-12-07T13:13:35.180760Z"
    }
   },
   "outputs": [],
   "source": [
    "import tensorflow as tf\n",
    "import numpy as np\n",
    "import matplotlib.pyplot as plt\n",
    "import time\n",
    "\n",
    "\n",
    "# Load Fashion MNIST dataset\n",
    "(x_train, y_train), (x_test, y_test) = tf.keras.datasets.fashion_mnist.load_data()\n",
    "\n",
    "# Normalize data\n",
    "x_train, x_test = x_train / 255.0, x_test / 255.0\n",
    "\n",
    "# One-hot encode labels\n",
    "y_train = tf.keras.utils.to_categorical(y_train, 10)\n",
    "y_test = tf.keras.utils.to_categorical(y_test, 10)"
   ]
  },
  {
   "cell_type": "code",
   "execution_count": 39,
   "metadata": {
    "collapsed": false,
    "ExecuteTime": {
     "end_time": "2024-12-07T13:13:40.863563600Z",
     "start_time": "2024-12-07T13:13:40.784660800Z"
    }
   },
   "outputs": [
    {
     "name": "stdout",
     "output_type": "stream",
     "text": [
      "Train Dataset:\n",
      "y_train: (60000, 10)\n",
      "x_train: (60000, 28, 28)\n",
      "------------------------------\n",
      "Test Dataset:\n",
      "y_test: (10000, 10)\n",
      "x_test: (10000, 28, 28)\n",
      "------------------------------\n",
      "x_train after reshape: (60000, 784)\n",
      "x_test after reshape: (10000, 784)\n"
     ]
    }
   ],
   "source": [
    "print(\"Train Dataset:\")\n",
    "print(f\"y_train: {np.shape(y_train)}\")\n",
    "print(f\"x_train: {np.shape(x_train)}\")\n",
    "print(\"-\" * 30)\n",
    "\n",
    "print(\"Test Dataset:\")\n",
    "print(f\"y_test: {np.shape(y_test)}\")\n",
    "print(f\"x_test: {np.shape(x_test)}\")\n",
    "print(\"-\" * 30)\n",
    "\n",
    "x_train = x_train.reshape(x_train.shape[0], -1)\n",
    "x_test = x_test.reshape(x_test.shape[0], -1)\n",
    "print(f\"x_train after reshape: {np.shape(x_train)}\")\n",
    "print(f\"x_test after reshape: {np.shape(x_test)}\")"
   ]
  },
  {
   "cell_type": "markdown",
   "metadata": {},
   "source": [
    "\n",
    "3## Adaptive Learning Rates"
   ]
  },
  {
   "cell_type": "markdown",
   "metadata": {
    "id": "4rNvoHEDlXP2"
   },
   "source": [
    "## Implementing a Simple Neural Network from Scratch"
   ]
  },
  {
   "cell_type": "markdown",
   "metadata": {
    "id": "8IMMs-s6lXP2"
   },
   "source": [
    "### Building the Network\n",
    "Define the architecture of a simple feedforward neural network with one hidden layer. You will need to manually initialize the weights and biases.\n",
    "\n",
    "**TODO:** Initialize Parameters\n",
    "Objective: Create a function to initialize weights and biases for all layers of the network.\n",
    "Instructions:\n",
    "- Initialize weights with small random values and biases with zeros.\n",
    "- Use numpy for creating arrays and operations.\n",
    "\n",
    "Hint: Use np.random.randn for weights and np.zeros for biases. Scale weights by 0.1."
   ]
  },
  {
   "cell_type": "code",
   "execution_count": 40,
   "metadata": {
    "id": "HEUr0figlXP3",
    "ExecuteTime": {
     "end_time": "2024-12-07T13:13:44.643458300Z",
     "start_time": "2024-12-07T13:13:44.568637100Z"
    }
   },
   "outputs": [],
   "source": [
    "def initialize_parameters(input_size, hidden_size, output_size):\n",
    "    \"\"\"\n",
    "    Initialize weights and biases for a simple feedforward neural network.\n",
    "\n",
    "    Parameters:\n",
    "    - input_size: Number of input features.\n",
    "    - hidden_size: Number of neurons in the hidden layer.\n",
    "    - output_size: Number of output classes.\n",
    "\n",
    "    Returns:\n",
    "    - parameters: A dictionary containing weights and biases.\n",
    "    \"\"\"\n",
    "    parameters = {\n",
    "        \"W1\": np.random.randn(hidden_size, input_size) * 0.1,\n",
    "        \"W2\": np.random.randn(output_size, hidden_size) * 0.1,\n",
    "        \"b1\": np.zeros((hidden_size, 1)),\n",
    "        \"b2\": np.zeros((output_size, 1))\n",
    "    }\n",
    "    return parameters"
   ]
  },
  {
   "cell_type": "markdown",
   "metadata": {
    "id": "bDvfRCVq-74-"
   },
   "source": [
    "\n",
    "TODO: Define Activation Functions\n",
    "Objective: Implement commonly used activation functions.\n",
    "Instructions:\n",
    " - Define the ReLU and Sigmoid activation functions.\n",
    " - Ensure each function works with numpy arrays and supports both forward and derivative (gradient) computations.\n"
   ]
  },
  {
   "cell_type": "code",
   "execution_count": 41,
   "metadata": {
    "id": "qIBwOlH6_Jg4",
    "ExecuteTime": {
     "end_time": "2024-12-07T13:13:46.081032700Z",
     "start_time": "2024-12-07T13:13:46.059638300Z"
    }
   },
   "outputs": [],
   "source": [
    "def relu(x):\n",
    "    \"\"\"\n",
    "    ReLU activation function.\n",
    "\n",
    "    Parameters:\n",
    "    - x: Input numpy array.\n",
    "\n",
    "    Returns:\n",
    "    - Output after applying ReLU.\n",
    "    \"\"\"\n",
    "    return np.maximum(x, 0)\n",
    "\n",
    "def relu_derivative(x):\n",
    "    \"\"\"\n",
    "    Derivative of ReLU activation function.\n",
    "\n",
    "    Parameters:\n",
    "    - x: Input numpy array.\n",
    "\n",
    "    Returns:\n",
    "    - Derivative of ReLU.\n",
    "    \"\"\"\n",
    "    return np.where(x >= 0, 1, 0)\n",
    "\n",
    "def sigmoid(x):\n",
    "    \"\"\"\n",
    "    Sigmoid activation function.\n",
    "\n",
    "    Parameters:\n",
    "    - x: Input numpy array.\n",
    "\n",
    "    Returns:\n",
    "    - Output after applying sigmoid.\n",
    "    \"\"\"\n",
    "    return 1 / (1 + np.exp(-x))\n",
    "\n",
    "\n",
    "def sigmoid_derivative(x):\n",
    "    \"\"\"\n",
    "    Derivative of sigmoid activation function.\n",
    "\n",
    "    Parameters:\n",
    "    - x: Input numpy array.\n",
    "\n",
    "    Returns:\n",
    "    - Derivative of sigmoid.\n",
    "    \"\"\"\n",
    "    s = 1 / (1 + np.exp(-x))\n",
    "    return s * (1 - s)\n",
    "\n",
    "\n",
    "def softmax(x):\n",
    "    \"\"\"\n",
    "    Softmax activation function.\n",
    "\n",
    "    Parameters:\n",
    "    - x: Input numpy array.\n",
    "\n",
    "    Returns:\n",
    "    - Output after applying softmax.\n",
    "    \"\"\"\n",
    "    stable_x = x - np.max(x, axis=0, keepdims=True)\n",
    "    exp_x = np.exp(stable_x)\n",
    "    return exp_x / np.sum(exp_x, axis=0, keepdims=True)"
   ]
  },
  {
   "cell_type": "markdown",
   "metadata": {
    "id": "h6HxkvToEDjr"
   },
   "source": [
    "TODO: Perform forward propagation through the network.\n",
    "\n",
    "    Parameters:\n",
    "    - X: Input data (shape: number of examples x input size).\n",
    "    - parameters: Dictionary containing weights and biases.\n",
    "\n",
    "    Returns:\n",
    "    - A2: Output of the network (after activation).\n",
    "    - cache: Dictionary containing intermediate values for backpropagation."
   ]
  },
  {
   "cell_type": "code",
   "execution_count": 42,
   "metadata": {
    "id": "4ylVbZoXECpn",
    "ExecuteTime": {
     "end_time": "2024-12-07T13:13:47.401623500Z",
     "start_time": "2024-12-07T13:13:47.365364200Z"
    }
   },
   "outputs": [],
   "source": [
    "def forward_propagation(X, parameters):\n",
    "    \"\"\"\n",
    "    Perform forward propagation through the network.\n",
    "\n",
    "    Parameters:\n",
    "    - X: Input data (shape: number of examples x input size).\n",
    "    - parameters: Dictionary containing weights and biases.\n",
    "\n",
    "    Returns:\n",
    "    - A2: Output of the network (after activation).\n",
    "    - cache: Dictionary containing intermediate values for backpropagation.\n",
    "    \"\"\"\n",
    "    \n",
    "   # Hidden layer\n",
    "    z1 = np.dot(parameters[\"W1\"], X) + parameters[\"b1\"]\n",
    "    a1 = relu(z1) \n",
    "\n",
    "    # Output layer\n",
    "    z2 = np.dot(parameters[\"W2\"], a1) + parameters[\"b2\"]\n",
    "    a2 = softmax(z2) \n",
    "\n",
    "    cache = {\n",
    "        \"Z1\": z1,\n",
    "        \"A1\": a1,\n",
    "        \"Z2\": z2,\n",
    "        \"A2\": a2\n",
    "    }\n",
    "\n",
    "    return a2, cache"
   ]
  },
  {
   "cell_type": "markdown",
   "metadata": {
    "id": "-KtURRNUC_NP"
   },
   "source": [
    "TODO: Implement the loss function. Compute the categorical cross-entropy loss.\n",
    "\n",
    "    Parameters:\n",
    "    - y_true: True labels (one-hot encoded).\n",
    "    - y_pred: Predicted probabilities (output of the network).\n",
    "\n",
    "    Returns:\n",
    "    - loss: Computed loss."
   ]
  },
  {
   "cell_type": "code",
   "execution_count": 43,
   "metadata": {
    "id": "advoE8kEC-vk",
    "ExecuteTime": {
     "end_time": "2024-12-07T13:13:48.748933900Z",
     "start_time": "2024-12-07T13:13:48.719132800Z"
    }
   },
   "outputs": [],
   "source": [
    "def compute_loss(y_true, y_pred):\n",
    "    \"\"\"\n",
    "    Compute the categorical cross-entropy loss.\n",
    "\n",
    "    Parameters:\n",
    "    - y_true: True labels (one-hot encoded).\n",
    "    - y_pred: Predicted probabilities (output of the network).\n",
    "\n",
    "    Returns:\n",
    "    - loss: Computed loss.\n",
    "    \"\"\"\n",
    "    y_pred = np.clip(y_pred, 1e-12, 1. - 1e-12)\n",
    "    loss = -np.sum(y_true * np.log(y_pred), axis=0)\n",
    "    l = np.mean(loss)\n",
    "    return l"
   ]
  },
  {
   "cell_type": "markdown",
   "metadata": {
    "id": "s5V1D0jUDK3B"
   },
   "source": [
    "TODO: Implement backpropagation for the network and Perform backward propagation through the network.\n",
    "\n",
    "    Parameters:\n",
    "    - X: Input data.\n",
    "    - y_true: True labels.\n",
    "    - parameters: Dictionary containing weights and biases.\n",
    "    - cache: Intermediate values from forward propagation.\n",
    "\n",
    "    Returns:\n",
    "    - gradients: Dictionary containing gradients for weights and biases."
   ]
  },
  {
   "cell_type": "code",
   "execution_count": 44,
   "metadata": {
    "id": "4CxAo9FlBG18",
    "ExecuteTime": {
     "end_time": "2024-12-07T13:13:50.160793700Z",
     "start_time": "2024-12-07T13:13:50.097535100Z"
    }
   },
   "outputs": [],
   "source": [
    "def backward_propagation(X, y_true, parameters, cache):\n",
    "    \"\"\"\n",
    "    Perform backward propagation through the network.\n",
    "\n",
    "    Parameters:\n",
    "    - X: Input data.\n",
    "    - y_true: True labels.\n",
    "    - parameters: Dictionary containing weights and biases.\n",
    "    - cache: Intermediate values from forward propagation.\n",
    "\n",
    "    Returns:\n",
    "    - gradients: Dictionary containing gradients for weights and biases.\n",
    "    \"\"\"\n",
    "    batch_size = X.shape[1]\n",
    "\n",
    "    # derivatives of output layer\n",
    "    dz2 = cache[\"A2\"] - y_true\n",
    "    dW2 = (1 / batch_size) * np.dot(dz2, cache[\"A1\"].T)\n",
    "    db2 = (1 / batch_size) * np.sum(dz2, axis=1, keepdims=True)\n",
    "\n",
    "    # derivatives of hidden layer\n",
    "    da1 = np.dot(parameters[\"W2\"].T, dz2)\n",
    "    dz1 = da1 * relu_derivative(cache[\"Z1\"])\n",
    "    dW1 = (1 / batch_size) * np.dot(dz1, X.T)\n",
    "    db1 = (1 / batch_size) * np.sum(dz1, axis=1, keepdims=True)\n",
    "\n",
    "    gradients = {\n",
    "        \"W1\": dW1,\n",
    "        \"b1\": db1,\n",
    "        \"W2\": dW2,\n",
    "        \"b2\": db2\n",
    "    }\n",
    "\n",
    "    return gradients"
   ]
  },
  {
   "cell_type": "markdown",
   "metadata": {
    "id": "LG2cvi3DDe4Q"
   },
   "source": [
    "TODO: Update the parameters using gradient descent.\n",
    "\n",
    "    Parameters:\n",
    "    - parameters: Current weights and biases.\n",
    "    - gradients: Calculated gradients.\n",
    "    - learning_rate: Learning rate for updates.\n",
    "\n",
    "    Returns:\n",
    "    - parameters: Updated weights and biases."
   ]
  },
  {
   "cell_type": "code",
   "execution_count": 45,
   "metadata": {
    "id": "9uMGXPGqDdk4",
    "ExecuteTime": {
     "end_time": "2024-12-07T13:13:51.400018600Z",
     "start_time": "2024-12-07T13:13:51.370554400Z"
    }
   },
   "outputs": [],
   "source": [
    "def update_parameters(parameters, gradients, learning_rate=0.01):\n",
    "    \"\"\"\n",
    "    Update parameters using gradient descent.\n",
    "\n",
    "    Parameters:\n",
    "    - parameters: Current weights and biases.\n",
    "    - gradients: Calculated gradients.\n",
    "    - learning_rate: Learning rate for updates.\n",
    "\n",
    "    Returns:\n",
    "    - parameters: Updated weights and biases.\n",
    "    \"\"\"\n",
    "    for key in parameters.keys():\n",
    "        parameters[key] -= learning_rate * gradients[f\"{key}\"]\n",
    "\n",
    "    return parameters"
   ]
  },
  {
   "cell_type": "markdown",
   "metadata": {
    "id": "5E4UZg1SD2bM"
   },
   "source": [
    "TODO: Train the model by changing the hidden layer size (such as [32, 64, 128]) and observe the impact on network performance during training.\n",
    "\n",
    "    Train the neural network model.\n",
    "\n",
    "    Parameters:\n",
    "    - X_train: Training data.\n",
    "    - y_train: One-hot encoded labels.\n",
    "    - hidden_size: Number of neurons in the hidden layer.\n",
    "    - epochs: Number of training epochs.\n",
    "    - learning_rate: Learning rate for optimization."
   ]
  },
  {
   "cell_type": "code",
   "execution_count": 46,
   "metadata": {
    "colab": {
     "base_uri": "https://localhost:8080/"
    },
    "id": "GlsAvdUCDzSb",
    "outputId": "39851e5f-dea2-49d0-bdc0-3cbc5cbb08b5",
    "ExecuteTime": {
     "end_time": "2024-12-07T13:14:33.836549900Z",
     "start_time": "2024-12-07T13:13:52.780045800Z"
    }
   },
   "outputs": [
    {
     "name": "stdout",
     "output_type": "stream",
     "text": [
      "\n",
      "Training with hidden layer size: 32\n",
      "--------------------------------------------------\n",
      "Epoch 0, Loss: 2.4085\n",
      "Epoch 5, Loss: 2.3546\n",
      "Epoch 10, Loss: 2.3118\n",
      "Epoch 15, Loss: 2.2755\n",
      "Epoch 20, Loss: 2.2432\n",
      "Epoch 25, Loss: 2.2137\n",
      "Epoch 30, Loss: 2.1861\n",
      "Epoch 35, Loss: 2.1598\n",
      "Epoch 40, Loss: 2.1344\n",
      "Epoch 45, Loss: 2.1095\n",
      "--------------------------------------------------\n",
      "\n",
      "Training with hidden layer size: 64\n",
      "--------------------------------------------------\n",
      "Epoch 0, Loss: 2.4047\n",
      "Epoch 5, Loss: 2.3043\n",
      "Epoch 10, Loss: 2.2375\n",
      "Epoch 15, Loss: 2.1848\n",
      "Epoch 20, Loss: 2.1390\n",
      "Epoch 25, Loss: 2.0969\n",
      "Epoch 30, Loss: 2.0569\n",
      "Epoch 35, Loss: 2.0185\n",
      "Epoch 40, Loss: 1.9810\n",
      "Epoch 45, Loss: 1.9445\n",
      "--------------------------------------------------\n",
      "\n",
      "Training with hidden layer size: 128\n",
      "--------------------------------------------------\n",
      "Epoch 0, Loss: 2.4602\n",
      "Epoch 5, Loss: 2.2612\n",
      "Epoch 10, Loss: 2.1429\n",
      "Epoch 15, Loss: 2.0501\n",
      "Epoch 20, Loss: 1.9692\n",
      "Epoch 25, Loss: 1.8962\n",
      "Epoch 30, Loss: 1.8293\n",
      "Epoch 35, Loss: 1.7678\n",
      "Epoch 40, Loss: 1.7111\n",
      "Epoch 45, Loss: 1.6588\n",
      "--------------------------------------------------\n"
     ]
    }
   ],
   "source": [
    "# Training Loop\n",
    "def train_model(X_train, Y_train, hidden_size, epochs=50, learning_rate=0.01):\n",
    "    \"\"\"\n",
    "    Train the neural network model.\n",
    "\n",
    "    Parameters:\n",
    "    - X_train: Training data.\n",
    "    - y_train: One-hot encoded labels.\n",
    "    - hidden_size: Number of neurons in the hidden layer.\n",
    "    - epochs: Number of training epochs.\n",
    "    - learning_rate: Learning rate for optimization.\n",
    "    \"\"\"\n",
    "    input_size = X_train.shape[1]\n",
    "    output_size = Y_train.shape[1]\n",
    "\n",
    "    parameters = initialize_parameters(input_size, hidden_size, output_size)\n",
    "\n",
    "    print(f\"\\nTraining with hidden layer size: {hidden_size}\")\n",
    "    print(\"-\" * 50)\n",
    "\n",
    "    X_train_trans = X_train.T\n",
    "    y_train_trans = Y_train.T\n",
    "    \n",
    "    for epoch in range(epochs):\n",
    "        y_pred, cache = forward_propagation(X_train_trans, parameters)\n",
    "\n",
    "        epoch_loss = compute_loss(y_train_trans, y_pred)\n",
    "\n",
    "        gradients = backward_propagation(X_train_trans, y_train_trans, parameters, cache)\n",
    "\n",
    "        parameters = update_parameters(parameters, gradients, learning_rate)\n",
    "\n",
    "        if epoch % 5 == 0:\n",
    "            print(f\"Epoch {epoch}, Loss: {epoch_loss:.4f}\")\n",
    "    print(\"-\" * 50)\n",
    "\n",
    "\n",
    "for hidden_size in [32, 64, 128]:\n",
    "        train_model(x_train, y_train, hidden_size)"
   ]
  },
  {
   "cell_type": "markdown",
   "metadata": {
    "id": "YuCNlJCHKf1S"
   },
   "source": [
    "TODO: Implement Adam Optimizer\n",
    "\n",
    "1. Initialize Parameters: Create variables to store the moment estimates (first and second) for each parameter.\n",
    "\n",
    "    Parameters:\n",
    "    - parameters: Dictionary containing weights and biases.\n",
    "\n",
    "    Returns:\n",
    "    - v: First moment vector (initialized to zeros).\n",
    "    - s: Second moment vector (initialized to zeros).\n",
    "    - t: Time step (initialized to 0).\n",
    "\n",
    "2. Update Rules: Implement the update rules based on the gradients, learning rate, and moment estimates.\n"
   ]
  },
  {
   "cell_type": "code",
   "execution_count": 47,
   "metadata": {
    "id": "Iqy1_rfsKP8b",
    "ExecuteTime": {
     "end_time": "2024-12-07T13:14:52.779010700Z",
     "start_time": "2024-12-07T13:14:52.716047200Z"
    }
   },
   "outputs": [],
   "source": [
    "def initialize_adam(parameters):\n",
    "    \"\"\"\n",
    "    Initialize the Adam optimizer variables.\n",
    "\n",
    "    Parameters:\n",
    "    - parameters: Dictionary containing weights and biases.\n",
    "\n",
    "    Returns:\n",
    "    - v: First moment vector (initialized to zeros).\n",
    "    - s: Second moment vector (initialized to zeros).\n",
    "    - t: Time step (initialized to 0).\n",
    "    \"\"\"\n",
    "    v = {key: np.zeros_like(parameters[key]) for key in parameters}\n",
    "    s = {key: np.zeros_like(parameters[key]) for key in parameters}\n",
    "    t = 0\n",
    "    \n",
    "    return v, s, t\n",
    "\n",
    "\n",
    "def update_parameters_with_adam(parameters, gradients, v, s, t, learning_rate=0.001, beta1=0.9, beta2=0.999, epsilon=1e-8):\n",
    "    \"\"\"\n",
    "    Update parameters using the Adam optimizer.\n",
    "\n",
    "    Parameters:\n",
    "    - parameters: Current weights and biases.\n",
    "    - gradients: Calculated gradients.\n",
    "    - v: First moment vector.\n",
    "    - s: Second moment vector.\n",
    "    - t: Time step.\n",
    "    - learning_rate: Learning rate for updates.\n",
    "    - beta1: Exponential decay rate for the first moment estimates.\n",
    "    - beta2: Exponential decay rate for the second moment estimates.\n",
    "    - epsilon: Small constant for numerical stability.\n",
    "\n",
    "    Returns:\n",
    "    - parameters: Updated weights and biases.\n",
    "    - v: Updated first moment vector.\n",
    "    - s: Updated second moment vector.\n",
    "    - t: Updated time step.\n",
    "    \"\"\"\n",
    "    t += 1\n",
    "    v_corrected = {}\n",
    "    s_corrected = {}\n",
    "\n",
    "    for key in parameters.keys():\n",
    "        v[key] = beta1 * v[key] + (1 - beta1) * gradients[key]\n",
    "        v_corrected[key] = v[key] / (1 - beta1 ** t)\n",
    "\n",
    "        s[key] = beta2 * s[key] + (1 - beta2) * (gradients[key] ** 2)\n",
    "        s_corrected[key] = s[key] / (1 - beta2 ** t)\n",
    "\n",
    "        parameters[key] -= learning_rate * v_corrected[key] / (np.sqrt(s_corrected[key]) + epsilon)\n",
    "\n",
    "    return parameters, v, s, t\n"
   ]
  },
  {
   "cell_type": "markdown",
   "metadata": {
    "id": "-mU6NQXdLQd_"
   },
   "source": [
    "TODO: Implement Adam optimizer into the training loop."
   ]
  },
  {
   "cell_type": "code",
   "execution_count": 48,
   "metadata": {
    "colab": {
     "base_uri": "https://localhost:8080/"
    },
    "id": "NMPqxphzKSv8",
    "outputId": "10d1696e-ad85-407e-def8-c2cbd424bb97",
    "ExecuteTime": {
     "end_time": "2024-12-07T13:15:50.339054900Z",
     "start_time": "2024-12-07T13:14:57.188801500Z"
    }
   },
   "outputs": [
    {
     "name": "stdout",
     "output_type": "stream",
     "text": [
      "\n",
      "Training with hidden layer size: 32\n",
      "--------------------------------------------------\n",
      "Epoch 0, Loss: 2.4382\n",
      "Epoch 5, Loss: 2.1104\n",
      "Epoch 10, Loss: 1.9348\n",
      "Epoch 15, Loss: 1.7551\n",
      "Epoch 20, Loss: 1.5704\n",
      "Epoch 25, Loss: 1.3881\n",
      "Epoch 30, Loss: 1.2305\n",
      "Epoch 35, Loss: 1.1000\n",
      "Epoch 40, Loss: 0.9997\n",
      "Epoch 45, Loss: 0.9226\n",
      "--------------------------------------------------\n",
      "\n",
      "Training with hidden layer size: 64\n",
      "--------------------------------------------------\n",
      "Epoch 0, Loss: 2.3894\n",
      "Epoch 5, Loss: 1.8159\n",
      "Epoch 10, Loss: 1.4350\n",
      "Epoch 15, Loss: 1.1470\n",
      "Epoch 20, Loss: 0.9659\n",
      "Epoch 25, Loss: 0.8576\n",
      "Epoch 30, Loss: 0.7872\n",
      "Epoch 35, Loss: 0.7375\n",
      "Epoch 40, Loss: 0.6982\n",
      "Epoch 45, Loss: 0.6656\n",
      "--------------------------------------------------\n",
      "\n",
      "Training with hidden layer size: 128\n",
      "--------------------------------------------------\n",
      "Epoch 0, Loss: 2.8273\n",
      "Epoch 5, Loss: 1.7140\n",
      "Epoch 10, Loss: 1.2314\n",
      "Epoch 15, Loss: 1.0164\n",
      "Epoch 20, Loss: 0.8763\n",
      "Epoch 25, Loss: 0.7895\n",
      "Epoch 30, Loss: 0.7306\n",
      "Epoch 35, Loss: 0.6876\n",
      "Epoch 40, Loss: 0.6520\n",
      "Epoch 45, Loss: 0.6233\n",
      "--------------------------------------------------\n"
     ]
    }
   ],
   "source": [
    "def train_model_with_adam(X_train, Y_train, hidden_size, epochs=50, learning_rate=0.001):\n",
    "    \"\"\"\n",
    "    Train the neural network model using Adam optimizer.\n",
    "\n",
    "    Parameters:\n",
    "    - X_train: Training data.\n",
    "    - y_train: One-hot encoded labels.\n",
    "    - hidden_size: Number of neurons in the hidden layer.\n",
    "    - epochs: Number of training epochs.\n",
    "    - learning_rate: Learning rate for optimization.\n",
    "    \"\"\"\n",
    "    input_size = X_train.shape[1]\n",
    "    output_size = Y_train.shape[1]\n",
    "\n",
    "    parameters = initialize_parameters(input_size, hidden_size, output_size)\n",
    "    print(f\"\\nTraining with hidden layer size: {hidden_size}\")\n",
    "    print(\"-\" * 50)\n",
    "\n",
    "    v, s, t = initialize_adam(parameters)\n",
    "\n",
    "    X_train_trans = X_train.T\n",
    "    y_train_trans = Y_train.T\n",
    "\n",
    "    for epoch in range(epochs):\n",
    "        y_pred, cache = forward_propagation(X_train_trans, parameters)\n",
    "\n",
    "        epoch_loss = compute_loss(y_train_trans, y_pred)\n",
    "\n",
    "        gradients = backward_propagation(X_train_trans, y_train_trans, parameters, cache)\n",
    "\n",
    "        parameters, v, s, t = update_parameters_with_adam(parameters, gradients, v, s, t, learning_rate)\n",
    "\n",
    "        if epoch % 5 == 0:\n",
    "                print(f\"Epoch {epoch}, Loss: {epoch_loss:.4f}\")\n",
    "    print(\"-\" * 50)\n",
    "\n",
    "for hidden_size in [32, 64, 128]:\n",
    "        train_model_with_adam(x_train, y_train, hidden_size)"
   ]
  },
  {
   "cell_type": "markdown",
   "metadata": {
    "id": "fEZVkGGplXP4"
   },
   "source": [
    "### Compare Adam and RMSprop\n"
   ]
  },
  {
   "cell_type": "markdown",
   "metadata": {
    "id": "7BxQoqf8ak2k"
   },
   "source": [
    "TODO: First, implement the RMSprop optimizer. The RMSprop optimizer uses a moving average of squared gradients to normalize the gradient, which helps to stabilize the updates."
   ]
  },
  {
   "cell_type": "code",
   "execution_count": 49,
   "metadata": {
    "id": "117xMpE6avQ2",
    "ExecuteTime": {
     "end_time": "2024-12-07T13:16:03.424159600Z",
     "start_time": "2024-12-07T13:16:03.361626100Z"
    }
   },
   "outputs": [],
   "source": [
    "def initialize_rmsprop(parameters):\n",
    "    \"\"\"\n",
    "    Initialize the RMSprop variables.\n",
    "\n",
    "    Parameters:\n",
    "    - parameters: Dictionary containing weights and biases.\n",
    "\n",
    "    Returns:\n",
    "    - s: Second moment vector (initialized to zeros).\n",
    "    \"\"\"\n",
    "    s = {key: np.zeros_like(parameters[key]) for key in parameters}\n",
    "    return s\n",
    "\n",
    "def update_parameters_with_rmsprop(parameters, gradients, s, learning_rate=0.001, beta=0.9, epsilon=1e-8):\n",
    "    \"\"\"\n",
    "    Update parameters using the RMSprop optimizer.\n",
    "\n",
    "    Parameters:\n",
    "    - parameters: Current weights and biases.\n",
    "    - gradients: Calculated gradients.\n",
    "    - s: Second moment vector.\n",
    "    - learning_rate: Learning rate for updates.\n",
    "    - beta: Exponential decay rate for the second moment estimates.\n",
    "    - epsilon: Small constant for numerical stability.\n",
    "\n",
    "    Returns:\n",
    "    - parameters: Updated weights and biases.\n",
    "    - s: Updated second moment vector.\n",
    "    \"\"\"\n",
    "    for key in parameters.keys():\n",
    "        s[key] = beta * s[key] + (1 - beta) * (gradients[key] ** 2)\n",
    "\n",
    "        parameters[key] -= learning_rate * gradients[key] / (np.sqrt(s[key]) + epsilon)\n",
    "\n",
    "    return parameters, s\n"
   ]
  },
  {
   "cell_type": "markdown",
   "metadata": {
    "id": "GWJg1GjFayY2"
   },
   "source": [
    "TODO: Modify the training loop to allow for both optimizers and store the loss history for comparison."
   ]
  },
  {
   "cell_type": "code",
   "execution_count": 50,
   "metadata": {
    "id": "iwcuRTkja5pT",
    "ExecuteTime": {
     "end_time": "2024-12-07T13:16:44.079911600Z",
     "start_time": "2024-12-07T13:16:05.450860900Z"
    }
   },
   "outputs": [
    {
     "name": "stdout",
     "output_type": "stream",
     "text": [
      "\n",
      "Training with hidden layer size: 32 using RMSPROP optimizer\n",
      "--------------------------------------------------\n",
      "Epoch 0, Loss: 2.6537\n",
      "Epoch 5, Loss: 1.8145\n",
      "Epoch 10, Loss: 1.5327\n",
      "Epoch 15, Loss: 1.3348\n",
      "Epoch 20, Loss: 1.1953\n",
      "Epoch 25, Loss: 1.0861\n",
      "Epoch 30, Loss: 1.0020\n",
      "Epoch 35, Loss: 0.9374\n",
      "Epoch 40, Loss: 0.8780\n",
      "Epoch 45, Loss: 0.8319\n",
      "Training complete.\n",
      "--------------------------------------------------\n",
      "\n",
      "Training with hidden layer size: 64 using RMSPROP optimizer\n",
      "--------------------------------------------------\n",
      "Epoch 0, Loss: 2.4773\n",
      "Epoch 5, Loss: 1.4511\n",
      "Epoch 10, Loss: 1.1833\n",
      "Epoch 15, Loss: 1.0265\n",
      "Epoch 20, Loss: 0.9254\n",
      "Epoch 25, Loss: 0.8697\n",
      "Epoch 30, Loss: 0.8078\n",
      "Epoch 35, Loss: 0.7692\n",
      "Epoch 40, Loss: 0.7291\n",
      "Epoch 45, Loss: 0.7182\n",
      "Training complete.\n",
      "--------------------------------------------------\n",
      "\n",
      "Training with hidden layer size: 128 using RMSPROP optimizer\n",
      "--------------------------------------------------\n",
      "Epoch 0, Loss: 2.8068\n",
      "Epoch 5, Loss: 1.2346\n",
      "Epoch 10, Loss: 1.0119\n",
      "Epoch 15, Loss: 0.8722\n",
      "Epoch 20, Loss: 0.7974\n",
      "Epoch 25, Loss: 0.7913\n",
      "Epoch 30, Loss: 0.7043\n",
      "Epoch 35, Loss: 0.7101\n",
      "Epoch 40, Loss: 0.6538\n",
      "Epoch 45, Loss: 0.6663\n",
      "Training complete.\n",
      "--------------------------------------------------\n"
     ]
    }
   ],
   "source": [
    "def train_model(X_train, Y_train, hidden_size, epochs=50, learning_rate=0.001, optimizer='adam', verbose=True):\n",
    "    \"\"\"\n",
    "    Train the neural network model using specified optimizer.\n",
    "\n",
    "    Parameters:\n",
    "    - X_train: Training data.\n",
    "    - y_train: One-hot encoded labels.\n",
    "    - hidden_size: Number of neurons in the hidden layer.\n",
    "    - epochs: Number of training epochs.\n",
    "    - learning_rate: Learning rate for optimization.\n",
    "    - optimizer: The optimizer to use ('adam' or 'rmsprop').\n",
    "\n",
    "    Returns:\n",
    "    - loss_history: List of loss values over epochs.\n",
    "    \"\"\"\n",
    "    input_size = X_train.shape[1]\n",
    "    output_size = Y_train.shape[1]\n",
    "\n",
    "    parameters = initialize_parameters(input_size, hidden_size, output_size)\n",
    "    if optimizer == 'adam':\n",
    "        v, s, t = initialize_adam(parameters)\n",
    "    elif optimizer == 'rmsprop':\n",
    "        s = initialize_rmsprop(parameters)\n",
    "    else:\n",
    "        raise ValueError(\"Optimizer must be 'adam' or 'rmsprop'.\")\n",
    "    \n",
    "    \n",
    "    if verbose:\n",
    "        print(f\"\\nTraining with hidden layer size: {hidden_size} using {optimizer.upper()} optimizer\")\n",
    "        print(\"-\" * 50)\n",
    "\n",
    "    X_train_trans = X_train.T\n",
    "    y_train_trans = Y_train.T\n",
    "\n",
    "    loss_history = []\n",
    "\n",
    "    for epoch in range(epochs):\n",
    "        y_pred, cache = forward_propagation(X_train_trans, parameters)\n",
    "\n",
    "        epoch_loss = compute_loss(y_train_trans, y_pred)\n",
    "        loss_history.append(epoch_loss)\n",
    "\n",
    "        gradients = backward_propagation(X_train_trans, y_train_trans, parameters, cache)\n",
    "\n",
    "        if optimizer == 'adam':\n",
    "            parameters, v, s, t = update_parameters_with_adam(parameters, gradients, v, s, t, learning_rate)\n",
    "        elif optimizer == 'rmsprop':\n",
    "            parameters, s = update_parameters_with_rmsprop(parameters, gradients, s, learning_rate)\n",
    "\n",
    "        if verbose and epoch % 5 == 0:\n",
    "            print(f\"Epoch {epoch}, Loss: {epoch_loss:.4f}\")\n",
    "\n",
    "    if verbose:\n",
    "        print(\"Training complete.\")\n",
    "        print(\"-\" * 50)\n",
    "    return parameters, loss_history\n",
    "\n",
    "for hidden_size in [32, 64, 128]:\n",
    "        train_model(x_train, y_train, hidden_size,optimizer=\"rmsprop\")"
   ]
  },
  {
   "cell_type": "markdown",
   "metadata": {
    "id": "g5cPzN1ma9Xi"
   },
   "source": [
    "TODO:  Compare Both Optimizers. Create a function to train the model using both optimizers and plot the loss histories for comparison."
   ]
  },
  {
   "cell_type": "code",
   "execution_count": 51,
   "metadata": {
    "colab": {
     "base_uri": "https://localhost:8080/",
     "height": 801
    },
    "id": "-z5eRURgbDIG",
    "outputId": "a292b2ab-8d4f-456b-b32f-6bff5cc18205",
    "ExecuteTime": {
     "end_time": "2024-12-07T13:17:34.335540300Z",
     "start_time": "2024-12-07T13:16:56.513796800Z"
    }
   },
   "outputs": [
    {
     "data": {
      "text/plain": "<Figure size 640x480 with 1 Axes>",
      "image/png": "[encoded data removed]"
     },
     "metadata": {},
     "output_type": "display_data"
    }
   ],
   "source": [
    "def compare_optimizers(X_train, Y_train, hidden_size=128):\n",
    "    \"\"\"\n",
    "    Compare the Adam and RMSprop optimizers.\n",
    "\n",
    "    Parameters:\n",
    "    - X_train: Training data.\n",
    "    - y_train: One-hot encoded labels.\n",
    "    - hidden_size: Number of neurons in the hidden layer.\n",
    "    - epochs: Number of training epochs.\n",
    "    \"\"\"\n",
    "\n",
    "    _, loss_adam = train_model(X_train, Y_train, hidden_size, optimizer=\"adam\", verbose=False)\n",
    "    _, loss_rmsprop = train_model(X_train, Y_train, hidden_size, optimizer=\"rmsprop\", verbose=False)\n",
    "\n",
    "    plt.plot(loss_adam, label='Adam', linewidth=2)\n",
    "\n",
    "    plt.plot(loss_rmsprop, label='RMSprop', linewidth=2)\n",
    "\n",
    "    plt.title('Loss Comparison: Adam vs RMSprop', fontsize=11)\n",
    "    plt.xlabel('Epoch', fontsize=13)\n",
    "    plt.ylabel('Loss', fontsize=13)\n",
    "    plt.legend(fontsize=12)\n",
    "\n",
    "    plt.grid(True, linestyle='--', alpha=0.6)\n",
    "\n",
    "    plt.show()\n",
    "\n",
    "\n",
    "compare_optimizers(x_train,y_train)"
   ]
  },
  {
   "cell_type": "markdown",
   "metadata": {
    "id": "pueHFmTUlXP5"
   },
   "source": [
    "## Stochastic Gradient Descent (SGD)"
   ]
  },
  {
   "cell_type": "markdown",
   "metadata": {
    "id": "3zrSW4LilXP5"
   },
   "source": [
    "### Impact of Different Learning Rates on SGD\n"
   ]
  },
  {
   "cell_type": "markdown",
   "metadata": {
    "id": "BU9BiBsKcWjb"
   },
   "source": [
    "Explore the impact of different learning rates on the training dynamics and performance of Stochastic Gradient Descent (SGD). This will allow us to observe how the learning rate affects convergence speed, stability, and final performance.\n",
    "\n",
    "Steps for Implementing the Experiment\n",
    "\n",
    "1. Define the SGD Optimizer: Implement a simple SGD optimizer.\n",
    "2. Modify the Training Loop: Allow for different learning rates.\n",
    "3. Train the Model: Run the training process with a set of predefined learning rates.\n",
    "4. Visualize the Results: Plot the loss curves for each learning rate to compare their effects"
   ]
  },
  {
   "cell_type": "markdown",
   "metadata": {
    "id": "vDRSuNVrcvVI"
   },
   "source": [
    "1. Implement SGD Optimizer\n"
   ]
  },
  {
   "cell_type": "code",
   "execution_count": 52,
   "metadata": {
    "id": "r9UE2OHfcwCe",
    "ExecuteTime": {
     "end_time": "2024-12-07T13:18:01.499207300Z",
     "start_time": "2024-12-07T13:18:01.420468400Z"
    }
   },
   "outputs": [],
   "source": [
    "def update_parameters_with_sgd(parameters, gradients, learning_rate=0.01):\n",
    "    \"\"\"\n",
    "    Update parameters using Stochastic Gradient Descent (SGD).\n",
    "\n",
    "    Parameters:\n",
    "    - parameters: Current weights and biases.\n",
    "    - gradients: Calculated gradients.\n",
    "    - learning_rate: Learning rate for updates.\n",
    "\n",
    "    Returns:\n",
    "    - parameters: Updated weights and biases.\n",
    "    \"\"\"\n",
    "    for param in parameters:\n",
    "        parameters[param] -= learning_rate * gradients[param]\n",
    "        \n",
    "    return parameters"
   ]
  },
  {
   "cell_type": "markdown",
   "metadata": {
    "id": "O4qIjyg9cyXB"
   },
   "source": [
    "2. Modify the Training Loop\n"
   ]
  },
  {
   "cell_type": "code",
   "execution_count": 53,
   "metadata": {
    "id": "U1gKM56IdBH-",
    "ExecuteTime": {
     "end_time": "2024-12-07T13:18:06.529126400Z",
     "start_time": "2024-12-07T13:18:06.464906200Z"
    }
   },
   "outputs": [],
   "source": [
    "def train_model_with_sgd(X_train, Y_train, hidden_size, epochs=50, learning_rate=0.01, verbose=True):\n",
    "    \"\"\"\n",
    "    Train the neural network model using SGD optimizer.\n",
    "\n",
    "    Parameters:\n",
    "    - X_train: Training data.\n",
    "    - y_train: One-hot encoded labels.\n",
    "    - hidden_size: Number of neurons in the hidden layer.\n",
    "    - epochs: Number of training epochs.\n",
    "    - learning_rate: Learning rate for optimization.\n",
    "\n",
    "    Returns:\n",
    "    - loss_history: List of loss values over epochs.\n",
    "    \"\"\"\n",
    "    input_size = X_train.shape[1]\n",
    "    output_size = Y_train.shape[1]\n",
    "    batch_size = X_train.shape[0] // 20\n",
    "\n",
    "    parameters = initialize_parameters(input_size, hidden_size, output_size)\n",
    "    \n",
    "    if verbose:\n",
    "        print(f\"\\nTraining with hidden layer size: {hidden_size} using SGD optimizer\")\n",
    "        print(\"_\" * 50)\n",
    "\n",
    "    loss_history = []\n",
    "\n",
    "    for epoch in range(epochs):\n",
    "        shuffled_indices = np.random.permutation(X_train.shape[0])\n",
    "        X_train_shuffled = X_train[shuffled_indices]\n",
    "        Y_train_shuffled = Y_train[shuffled_indices]\n",
    "\n",
    "        X_batch = X_train_shuffled[:batch_size].T\n",
    "        Y_batch = Y_train_shuffled[:batch_size].T\n",
    "\n",
    "        y_pred, cache = forward_propagation(X_batch, parameters)\n",
    "\n",
    "        epoch_loss = compute_loss(Y_batch, y_pred)\n",
    "        loss_history.append(epoch_loss)\n",
    "\n",
    "        gradients = backward_propagation(X_batch, Y_batch, parameters, cache)\n",
    "\n",
    "        parameters = update_parameters_with_sgd(parameters, gradients, learning_rate)\n",
    "\n",
    "        if verbose and epoch % 5 == 0:\n",
    "            print(f\"Epoch {epoch}, Loss: {epoch_loss:.4f}\")\n",
    "\n",
    "    return parameters, loss_history"
   ]
  },
  {
   "cell_type": "markdown",
   "metadata": {
    "id": "CeQpjFQHdD4v"
   },
   "source": [
    "3. Experiment with Different Learning Rates\n"
   ]
  },
  {
   "cell_type": "code",
   "execution_count": 55,
   "metadata": {
    "colab": {
     "base_uri": "https://localhost:8080/",
     "height": 948
    },
    "id": "FvFIXxFRdGDv",
    "outputId": "034c4386-19bc-4869-c0f8-693c698eb9fe",
    "ExecuteTime": {
     "end_time": "2024-12-07T13:19:19.831804600Z",
     "start_time": "2024-12-07T13:18:48.050571100Z"
    }
   },
   "outputs": [
    {
     "name": "stdout",
     "output_type": "stream",
     "text": [
      "\n",
      "Training with learning rate: 0.001\n",
      "\n",
      "Training with hidden layer size: 128 using SGD optimizer\n",
      "__________________________________________________\n",
      "Epoch 0, Loss: 2.7598\n",
      "Epoch 5, Loss: 2.7219\n",
      "Epoch 10, Loss: 2.6907\n",
      "Epoch 15, Loss: 2.6422\n",
      "Epoch 20, Loss: 2.6130\n",
      "Epoch 25, Loss: 2.5825\n",
      "Epoch 30, Loss: 2.5655\n",
      "Epoch 35, Loss: 2.5381\n",
      "Epoch 40, Loss: 2.4890\n",
      "Epoch 45, Loss: 2.5088\n",
      "\n",
      "Training with learning rate: 0.01\n",
      "\n",
      "Training with hidden layer size: 128 using SGD optimizer\n",
      "__________________________________________________\n",
      "Epoch 0, Loss: 2.9490\n",
      "Epoch 5, Loss: 2.4002\n",
      "Epoch 10, Loss: 2.2128\n",
      "Epoch 15, Loss: 2.0788\n",
      "Epoch 20, Loss: 1.9557\n",
      "Epoch 25, Loss: 1.8714\n",
      "Epoch 30, Loss: 1.7791\n",
      "Epoch 35, Loss: 1.7231\n",
      "Epoch 40, Loss: 1.6584\n",
      "Epoch 45, Loss: 1.6098\n",
      "\n",
      "Training with learning rate: 0.1\n",
      "\n",
      "Training with hidden layer size: 128 using SGD optimizer\n",
      "__________________________________________________\n",
      "Epoch 0, Loss: 2.6427\n",
      "Epoch 5, Loss: 1.6056\n",
      "Epoch 10, Loss: 1.2820\n",
      "Epoch 15, Loss: 1.1137\n",
      "Epoch 20, Loss: 1.1034\n",
      "Epoch 25, Loss: 1.0045\n",
      "Epoch 30, Loss: 0.9579\n",
      "Epoch 35, Loss: 0.8938\n",
      "Epoch 40, Loss: 0.9056\n",
      "Epoch 45, Loss: 0.8477\n"
     ]
    },
    {
     "data": {
      "text/plain": "<Figure size 640x480 with 1 Axes>",
      "image/png": "[encoded data removed]"
     },
     "metadata": {},
     "output_type": "display_data"
    }
   ],
   "source": [
    "def compare_learning_rates(X_train, Y_train, hidden_size, epochs=50, learning_rates=[0.001, 0.01, 0.1]):\n",
    "    \"\"\"\n",
    "    Compare the performance of SGD with different learning rates.\n",
    "\n",
    "    Parameters:\n",
    "    - X_train: Training data.\n",
    "    - y_train: One-hot encoded labels.\n",
    "    - hidden_size: Number of neurons in the hidden layer.\n",
    "    - epochs: Number of training epochs.\n",
    "    - learning_rates: List of learning rates to test.\n",
    "    \"\"\"\n",
    "    all_loss_histories = {}  # Dictionary to store loss history for each learning rate\n",
    "\n",
    "    for lr in learning_rates:\n",
    "        print(f\"\\nTraining with learning rate: {lr}\")\n",
    "        # Use the train_model_with_sgd function for training\n",
    "        _, loss_history = train_model_with_sgd(X_train, Y_train, hidden_size, epochs, lr)\n",
    "        \n",
    "        # Store loss history for this learning rate\n",
    "        all_loss_histories[lr] = loss_history\n",
    "\n",
    "    for lr, losses in all_loss_histories.items():\n",
    "        plt.plot(losses, label=f'LR: {lr}', linewidth=2)\n",
    "\n",
    "    plt.title('Loss Comparison', fontsize=13)\n",
    "    plt.xlabel('Epoch', fontsize=13)\n",
    "    plt.ylabel('Loss', fontsize=13)\n",
    "    plt.legend(fontsize=12)\n",
    "    plt.grid(True, linestyle='--', alpha=0.6)\n",
    "    plt.show()\n",
    "\n",
    "\n",
    "compare_learning_rates(x_train,y_train, 128)"
   ]
  },
  {
   "cell_type": "markdown",
   "metadata": {
    "id": "IXxuYU7llXP6"
   },
   "source": [
    "### SGD with Momentum vs. Classic SGD\n"
   ]
  },
  {
   "cell_type": "markdown",
   "metadata": {
    "id": "R8dcD51aepnC"
   },
   "source": [
    "TODO: Compare Stochastic Gradient Descent (SGD) with momentum and classic SGD, you can set up an experiment that trains the same model using both methods. This will help you observe differences in convergence speed and stability.\n",
    "\n",
    "Steps for Implementing the Comparison:\n",
    "\n",
    "1. Implement Classic SGD: Ensure you have a basic SGD implementation.(already implemented in the previous cells)\n",
    "\n",
    "2. Implement SGD with Momentum: Add a momentum version of the SGD optimizer.\n",
    "\n",
    "3. Modify the Training Loop: Allow for both optimizers in the training process.\n",
    "\n",
    "4. Train the Model: Run the training process using both optimizers.\n",
    "\n",
    "5. Visualize the Results: Plot the loss curves for each optimizer to compare their performance."
   ]
  },
  {
   "cell_type": "markdown",
   "metadata": {
    "id": "9-czqAXNe_nQ"
   },
   "source": [
    "2. Implement SGD with Momentum\n"
   ]
  },
  {
   "cell_type": "code",
   "execution_count": 56,
   "metadata": {
    "id": "8uzLkhWcfB6a",
    "ExecuteTime": {
     "end_time": "2024-12-07T13:19:28.791277100Z",
     "start_time": "2024-12-07T13:19:28.728174200Z"
    }
   },
   "outputs": [],
   "source": [
    "def initialize_momentum(parameters):\n",
    "    \"\"\"\n",
    "    Initialize the momentum variables.\n",
    "\n",
    "    Parameters:\n",
    "    - parameters: Dictionary containing weights and biases.\n",
    "\n",
    "    Returns:\n",
    "    - v: Momentum variable (initialized to zeros).\n",
    "    \"\"\"\n",
    "    v = {param: np.zeros_like(parameters[param]) for param in parameters}    \n",
    "    return v\n",
    "\n",
    "def update_parameters_with_momentum(parameters, gradients, v, learning_rate=0.01, beta=0.9):\n",
    "    \"\"\"\n",
    "    Update parameters using SGD with momentum.\n",
    "\n",
    "    Parameters:\n",
    "    - parameters: Current weights and biases.\n",
    "    - gradients: Calculated gradients.\n",
    "    - v: Momentum variable.\n",
    "    - learning_rate: Learning rate for updates.\n",
    "    - beta: Exponential decay rate for momentum.\n",
    "\n",
    "    Returns:\n",
    "    - parameters: Updated weights and biases.\n",
    "    - v: Updated momentum variable.\n",
    "    \"\"\"\n",
    "    for param in parameters:\n",
    "        v[param] = beta * v[param] + (1 - beta) * gradients[param]\n",
    "        parameters[param] -= learning_rate * v[param]\n",
    "        \n",
    "    return parameters, v"
   ]
  },
  {
   "cell_type": "markdown",
   "metadata": {
    "id": "k_DvOLijfIFK"
   },
   "source": [
    "3. Modify the Training Loop\n"
   ]
  },
  {
   "cell_type": "code",
   "execution_count": 59,
   "metadata": {
    "id": "uz3jxDtCfIuA",
    "ExecuteTime": {
     "end_time": "2024-12-07T13:19:55.017808Z",
     "start_time": "2024-12-07T13:19:54.955591700Z"
    }
   },
   "outputs": [],
   "source": [
    "def train_model(X_train, Y_train, hidden_size, epochs=50, learning_rate=0.01, optimizer='sgd'):\n",
    "    \"\"\"\n",
    "    Train the neural network model using specified optimizer.\n",
    "\n",
    "    Parameters:\n",
    "    - X_train: Training data.\n",
    "    - y_train: One-hot encoded labels.\n",
    "    - hidden_size: Number of neurons in the hidden layer.\n",
    "    - epochs: Number of training epochs.\n",
    "    - learning_rate: Learning rate for optimization.\n",
    "    - optimizer: The optimizer to use ('sgd' or 'momentum').\n",
    "\n",
    "    Returns:\n",
    "    - loss_history: List of loss values over epochs.\n",
    "    \"\"\"\n",
    "    input_size = X_train.shape[1]\n",
    "    output_size = Y_train.shape[1]\n",
    "    batch_size = X_train.shape[0] // 60\n",
    "    \n",
    "\n",
    "    parameters = initialize_parameters(input_size, hidden_size, output_size)\n",
    "    v = initialize_momentum(parameters) if optimizer == 'momentum' else None\n",
    "\n",
    "    print(f\"\\nTraining with hidden layer size: {hidden_size} using {optimizer.upper()} optimizer\")\n",
    "    print(\"-\" * 50)\n",
    "    loss_history = []\n",
    "\n",
    "    for epoch in range(epochs):\n",
    "        shuffled_indices = np.random.permutation(X_train.shape[0])\n",
    "        X_train_shuffled = X_train[shuffled_indices]\n",
    "        Y_train_shuffled = Y_train[shuffled_indices]\n",
    "\n",
    "        X_batch = X_train_shuffled[:batch_size].T\n",
    "        Y_batch = Y_train_shuffled[:batch_size].T\n",
    "\n",
    "        y_pred, cache = forward_propagation(X_batch, parameters)\n",
    "\n",
    "        epoch_loss = compute_loss(Y_batch, y_pred)\n",
    "        loss_history.append(epoch_loss)\n",
    "\n",
    "        gradients = backward_propagation(X_batch, Y_batch, parameters, cache)\n",
    "\n",
    "        if optimizer == 'sgd':\n",
    "            parameters = update_parameters_with_sgd(parameters, gradients)\n",
    "        elif optimizer == 'momentum':\n",
    "            parameters, v = update_parameters_with_momentum(parameters, gradients, v)\n",
    "        else:\n",
    "            raise ValueError(\"Optimizer must be either 'sgd' or 'momentum'.\")\n",
    "\n",
    "        if epoch % 5 == 0:\n",
    "            print(f\"Epoch {epoch}, Loss: {epoch_loss:.4f}\")\n",
    "    print(\"-\" * 50)\n",
    "\n",
    "    return parameters, loss_history"
   ]
  },
  {
   "cell_type": "markdown",
   "metadata": {
    "id": "wVbv6XeYfLbf"
   },
   "source": [
    "4. Train the Model with Both Optimizers\n"
   ]
  },
  {
   "cell_type": "code",
   "execution_count": 60,
   "metadata": {
    "colab": {
     "base_uri": "https://localhost:8080/",
     "height": 801
    },
    "id": "0zEcNXJGfOTf",
    "outputId": "3d69406a-d63b-4960-ea0a-7680fd4ab5ad",
    "ExecuteTime": {
     "end_time": "2024-12-07T13:20:18.118921900Z",
     "start_time": "2024-12-07T13:19:58.089455200Z"
    }
   },
   "outputs": [
    {
     "name": "stdout",
     "output_type": "stream",
     "text": [
      "\n",
      "Training with Optimizer: sgd\n",
      "\n",
      "Training with hidden layer size: 128 using SGD optimizer\n",
      "--------------------------------------------------\n",
      "Epoch 0, Loss: 2.6893\n",
      "Epoch 5, Loss: 2.2587\n",
      "Epoch 10, Loss: 2.1017\n",
      "Epoch 15, Loss: 2.0189\n",
      "Epoch 20, Loss: 1.9089\n",
      "Epoch 25, Loss: 1.8340\n",
      "Epoch 30, Loss: 1.7684\n",
      "Epoch 35, Loss: 1.7242\n",
      "Epoch 40, Loss: 1.6527\n",
      "Epoch 45, Loss: 1.5928\n",
      "--------------------------------------------------\n",
      "\n",
      "Training with Optimizer: momentum\n",
      "\n",
      "Training with hidden layer size: 128 using SGD optimizer\n",
      "--------------------------------------------------\n",
      "Epoch 0, Loss: 2.6388\n",
      "Epoch 5, Loss: 2.3968\n",
      "Epoch 10, Loss: 2.2790\n",
      "Epoch 15, Loss: 2.1824\n",
      "Epoch 20, Loss: 2.1148\n",
      "Epoch 25, Loss: 1.9783\n",
      "Epoch 30, Loss: 1.9249\n",
      "Epoch 35, Loss: 1.8673\n",
      "Epoch 40, Loss: 1.8256\n",
      "Epoch 45, Loss: 1.7163\n",
      "--------------------------------------------------\n"
     ]
    },
    {
     "data": {
      "text/plain": "<Figure size 640x480 with 1 Axes>",
      "image/png": "[encoded data removed]"
     },
     "metadata": {},
     "output_type": "display_data"
    }
   ],
   "source": [
    "def compare_sgd_and_momentum(X_train, Y_train, hidden_size, epochs=50):\n",
    "    \"\"\"\n",
    "    Compare the performance of classic SGD and SGD with momentum.\n",
    "\n",
    "    Parameters:\n",
    "    - X_train: Training data.\n",
    "    - y_train: One-hot encoded labels.\n",
    "    - hidden_size: Number of neurons in the hidden layer.\n",
    "    - epochs: Number of training epochs.\n",
    "    \"\"\"\n",
    "    all_loss_histories = {}  # Dictionary to store loss history for each learning rate\n",
    "\n",
    "    for opt in [\"sgd\", \"momentum\"]:\n",
    "        print(f\"\\nTraining with Optimizer: {opt}\")\n",
    "        # Use the train_model_with_sgd function for training\n",
    "        _, loss_history = train_model(X_train, Y_train, hidden_size, epochs, opt)\n",
    "        \n",
    "        # Store loss history for this learning rate\n",
    "        all_loss_histories[opt] = loss_history\n",
    "\n",
    "    for opt, losses in all_loss_histories.items():\n",
    "        plt.plot(losses, label=f'LR: {opt}', linewidth=2)\n",
    "\n",
    "    plt.title('Loss Comparison', fontsize=13)\n",
    "    plt.xlabel('Epoch', fontsize=13)\n",
    "    plt.ylabel('Loss', fontsize=13)\n",
    "    plt.legend(fontsize=12)\n",
    "    plt.grid(True, linestyle='--', alpha=0.6)\n",
    "    plt.show()\n",
    "\n",
    "\n",
    "compare_sgd_and_momentum(x_train,y_train, 128)"
   ]
  },
  {
   "cell_type": "markdown",
   "metadata": {
    "id": "OhaXIjuClXP6"
   },
   "source": [
    "## Mini-Batch Gradient Descent"
   ]
  },
  {
   "cell_type": "markdown",
   "metadata": {
    "id": "wpBVHm6elXP6"
   },
   "source": [
    "### Mini-Batch Size Optimization"
   ]
  },
  {
   "cell_type": "markdown",
   "metadata": {
    "id": "rUDwKXOAgc2h"
   },
   "source": [
    "TODO: Investigate how different mini-batch sizes affect model performance, you can set up an experiment where you train the same model using various mini-batch sizes.\n",
    "\n",
    "Steps for Implementing the Mini-Batch Size Experiment\n",
    "\n",
    "1. Modify the Training Loop: Update the training loop to use mini-batches.\n",
    "2. Train the Model: Run the training process with a set of predefined mini-batch sizes.\n",
    "3. Evaluate Performance: Track training time and accuracy for each mini-batch size.\n",
    "4. Print the training losses and accuracies for comparison."
   ]
  },
  {
   "cell_type": "markdown",
   "metadata": {
    "id": "sz2dJu_PgvJH"
   },
   "source": [
    "1. Modify the Training Loop for Mini-Batches\n"
   ]
  },
  {
   "cell_type": "code",
   "execution_count": 61,
   "metadata": {
    "id": "2eBWqUKwgqqN",
    "ExecuteTime": {
     "end_time": "2024-12-07T13:20:58.724549200Z",
     "start_time": "2024-12-07T13:20:58.632911500Z"
    }
   },
   "outputs": [],
   "source": [
    "def train_model_with_mini_batches(X_train, Y_train, hidden_size, epochs=50, learning_rate=0.01, batch_size=32):\n",
    "    \"\"\"\n",
    "    Train the neural network model using mini-batches.\n",
    "\n",
    "    Parameters:\n",
    "    - X_train: Training data.\n",
    "    - Y_train: One-hot encoded labels.\n",
    "    - hidden_size: Number of neurons in the hidden layer.\n",
    "    - epochs: Number of training epochs.\n",
    "    - learning_rate: Learning rate for optimization.\n",
    "    - batch_size: Size of mini-batches.\n",
    "\n",
    "    Returns:\n",
    "    - loss_history: List of loss values over epochs.\n",
    "    - accuracy_history: List of accuracy values over epochs.\n",
    "    \"\"\"\n",
    "    input_size = X_train.shape[1]\n",
    "    output_size = Y_train.shape[1]\n",
    "\n",
    "    parameters = initialize_parameters(input_size, hidden_size, output_size)\n",
    "\n",
    "    print(f\"\\nTraining with hidden layer size: {hidden_size} using mini-batches and batch size of {batch_size}\")\n",
    "    print(\"-\" * 50)\n",
    "    loss_history = []\n",
    "    accuracy_history = []\n",
    "\n",
    "    for epoch in range(epochs):\n",
    "        shuffled_indices = np.random.permutation(X_train.shape[0])\n",
    "        X_train_shuffled = X_train[shuffled_indices]\n",
    "        Y_train_shuffled = Y_train[shuffled_indices]\n",
    "\n",
    "        epoch_loss = 0\n",
    "        correct_predictions = 0\n",
    "        total_samples = 0\n",
    "\n",
    "        for start_idx in range(0, X_train.shape[0], batch_size):\n",
    "            end_idx = min(start_idx + batch_size, X_train.shape[0])\n",
    "            X_batch = X_train_shuffled[start_idx:end_idx].T\n",
    "            Y_batch = Y_train_shuffled[start_idx:end_idx].T\n",
    "\n",
    "            y_pred, cache = forward_propagation(X_batch, parameters)\n",
    "\n",
    "            batch_loss = compute_loss(Y_batch, y_pred)\n",
    "            epoch_loss += batch_loss * (end_idx - start_idx)\n",
    "\n",
    "            gradients = backward_propagation(X_batch, Y_batch, parameters, cache)\n",
    "\n",
    "            parameters = update_parameters_with_sgd(parameters, gradients, learning_rate)\n",
    "\n",
    "            batch_predictions = np.argmax(y_pred, axis=0)\n",
    "            batch_labels = np.argmax(Y_batch, axis=0)\n",
    "            correct_predictions += np.sum(batch_predictions == batch_labels)\n",
    "            total_samples += end_idx - start_idx\n",
    "\n",
    "        epoch_loss /= X_train.shape[0]\n",
    "        loss_history.append(epoch_loss)\n",
    "\n",
    "        epoch_accuracy = correct_predictions / total_samples\n",
    "        accuracy_history.append(epoch_accuracy)\n",
    "\n",
    "        if epoch % 5 == 0:\n",
    "            print(f\"Epoch {epoch}, Loss: {epoch_loss:.4f}, Accuracy: {epoch_accuracy:.4f}\")\n",
    "    print(\"-\" * 50)\n",
    "    return parameters, loss_history, accuracy_history\n"
   ]
  },
  {
   "cell_type": "markdown",
   "metadata": {
    "id": "ja1aWHjwgwMl"
   },
   "source": [
    "2. Train the Model with Different Mini-Batch Sizes\n"
   ]
  },
  {
   "cell_type": "code",
   "execution_count": 62,
   "metadata": {
    "colab": {
     "base_uri": "https://localhost:8080/"
    },
    "id": "R7vvj-y_is_k",
    "outputId": "7bca490c-a4a5-4865-8448-37d26546cfc5",
    "ExecuteTime": {
     "end_time": "2024-12-07T13:33:10.752292800Z",
     "start_time": "2024-12-07T13:21:05.870494500Z"
    }
   },
   "outputs": [
    {
     "name": "stdout",
     "output_type": "stream",
     "text": [
      "\n",
      "Training with hidden layer size: 128 using mini-batches and batch size of 16\n",
      "--------------------------------------------------\n",
      "Epoch 0, Loss: 0.6514, Accuracy: 0.7802\n",
      "Epoch 5, Loss: 0.3813, Accuracy: 0.8671\n",
      "Epoch 10, Loss: 0.3325, Accuracy: 0.8821\n",
      "Epoch 15, Loss: 0.3022, Accuracy: 0.8911\n",
      "Epoch 20, Loss: 0.2791, Accuracy: 0.9001\n",
      "Epoch 25, Loss: 0.2608, Accuracy: 0.9069\n",
      "Epoch 30, Loss: 0.2459, Accuracy: 0.9124\n",
      "Epoch 35, Loss: 0.2318, Accuracy: 0.9172\n",
      "Epoch 40, Loss: 0.2192, Accuracy: 0.9219\n",
      "Epoch 45, Loss: 0.2084, Accuracy: 0.9250\n",
      "--------------------------------------------------\n",
      "\n",
      "Training with hidden layer size: 128 using mini-batches and batch size of 32\n",
      "--------------------------------------------------\n",
      "Epoch 0, Loss: 0.7501, Accuracy: 0.7503\n",
      "Epoch 5, Loss: 0.4170, Accuracy: 0.8549\n",
      "Epoch 10, Loss: 0.3715, Accuracy: 0.8701\n",
      "Epoch 15, Loss: 0.3437, Accuracy: 0.8788\n",
      "Epoch 20, Loss: 0.3229, Accuracy: 0.8857\n",
      "Epoch 25, Loss: 0.3060, Accuracy: 0.8914\n",
      "Epoch 30, Loss: 0.2909, Accuracy: 0.8964\n",
      "Epoch 35, Loss: 0.2785, Accuracy: 0.9003\n",
      "Epoch 40, Loss: 0.2667, Accuracy: 0.9047\n",
      "Epoch 45, Loss: 0.2564, Accuracy: 0.9089\n",
      "--------------------------------------------------\n",
      "\n",
      "Training with hidden layer size: 128 using mini-batches and batch size of 64\n",
      "--------------------------------------------------\n",
      "Epoch 0, Loss: 0.9214, Accuracy: 0.6979\n",
      "Epoch 5, Loss: 0.4695, Accuracy: 0.8378\n",
      "Epoch 10, Loss: 0.4226, Accuracy: 0.8537\n",
      "Epoch 15, Loss: 0.3936, Accuracy: 0.8646\n",
      "Epoch 20, Loss: 0.3725, Accuracy: 0.8710\n",
      "Epoch 25, Loss: 0.3565, Accuracy: 0.8752\n",
      "Epoch 30, Loss: 0.3428, Accuracy: 0.8807\n",
      "Epoch 35, Loss: 0.3303, Accuracy: 0.8839\n",
      "Epoch 40, Loss: 0.3207, Accuracy: 0.8865\n",
      "Epoch 45, Loss: 0.3115, Accuracy: 0.8905\n",
      "--------------------------------------------------\n"
     ]
    }
   ],
   "source": [
    "def compare_mini_batch_sizes(X_train, Y_train, hidden_size, epochs=50, batch_sizes=[16, 32, 64]):\n",
    "    \"\"\"\n",
    "    Compare the performance of different mini-batch sizes and print results.\n",
    "\n",
    "    Parameters:\n",
    "    - X_train: Training data.\n",
    "    - y_train: One-hot encoded labels.\n",
    "    - hidden_size: Number of neurons in the hidden layer.\n",
    "    - epochs: Number of training epochs.\n",
    "    - batch_sizes: List of mini-batch sizes to test.\n",
    "    \"\"\"\n",
    "    for batch_size in batch_sizes:\n",
    "        parameters, loss_history, accuracy_history = train_model_with_mini_batches(\n",
    "            X_train, Y_train, hidden_size, epochs, learning_rate=0.01, batch_size=batch_size\n",
    "        )\n",
    "\n",
    "compare_mini_batch_sizes(x_train,y_train, 128)"
   ]
  },
  {
   "cell_type": "markdown",
   "metadata": {
    "id": "wb3WXFgMlXP7"
   },
   "source": [
    "### Mini-Batch vs. Full-Batch Gradient Descent\n"
   ]
  },
  {
   "cell_type": "markdown",
   "metadata": {
    "id": "vVvy9f6PlPCS"
   },
   "source": [
    "TODO: Compare the efficiency and performance of mini-batch gradient descent against full-batch gradient descent.\n",
    "\n",
    "1. Implement Full-Batch Gradient Descent: Ensure you have a full-batch gradient descent implementation.\n",
    "\n",
    "2. Modify the Training Loop: Allow the training loop to handle both mini-batch and full-batch scenarios.\n",
    "\n",
    "3. Train the Model: Run the training process using both methods and track their performance.\n",
    "\n",
    "4. Print Results: Display the final loss and accuracy for both methods along with training times."
   ]
  },
  {
   "cell_type": "code",
   "execution_count": 63,
   "metadata": {
    "id": "tlTYBB2tlgBG",
    "ExecuteTime": {
     "end_time": "2024-12-07T13:33:18.831507700Z",
     "start_time": "2024-12-07T13:33:18.815858900Z"
    }
   },
   "outputs": [],
   "source": [
    "def train_model_full_batch(X_train, Y_train, hidden_size, epochs=50, learning_rate=0.01):\n",
    "    \"\"\"\n",
    "    Train the neural network model using full-batch gradient descent.\n",
    "\n",
    "    Parameters:\n",
    "    - X_train: Training data.\n",
    "    - y_train: One-hot encoded labels.\n",
    "    - hidden_size: Number of neurons in the hidden layer.\n",
    "    - epochs: Number of training epochs.\n",
    "    - learning_rate: Learning rate for optimization.\n",
    "\n",
    "    Returns:\n",
    "    - loss_history: List of loss values over epochs.\n",
    "    - accuracy_history: List of accuracy values over epochs.\n",
    "    \"\"\"\n",
    "    input_size = X_train.shape[1]\n",
    "    output_size = Y_train.shape[1]\n",
    "\n",
    "    parameters = initialize_parameters(input_size, hidden_size, output_size)\n",
    "\n",
    "    print(f\"\\nTraining with hidden layer size: {hidden_size} using full-batch gradient descent\")\n",
    "    print(\"-\" * 50)\n",
    "    loss_history = []\n",
    "    accuracy_history = []\n",
    "\n",
    "    X_train_trans = X_train.T\n",
    "    Y_train_trans = Y_train.T\n",
    "\n",
    "    for epoch in range(epochs):\n",
    "        y_pred, cache = forward_propagation(X_train_trans, parameters)\n",
    "\n",
    "        epoch_loss = compute_loss(Y_train_trans, y_pred)\n",
    "        loss_history.append(epoch_loss)\n",
    "\n",
    "        gradients = backward_propagation(X_train_trans, Y_train_trans, parameters, cache)\n",
    "\n",
    "        parameters = update_parameters_with_sgd(parameters, gradients, learning_rate)\n",
    "\n",
    "        predictions = np.argmax(y_pred, axis=0)\n",
    "        labels = np.argmax(Y_train_trans, axis=0)\n",
    "        epoch_accuracy = np.sum(predictions == labels) / X_train.shape[0]\n",
    "        accuracy_history.append(epoch_accuracy)\n",
    "\n",
    "        if epoch % 5 == 0 or epoch == epochs - 1:\n",
    "            print(f\"Epoch {epoch}, Loss: {epoch_loss:.4f}, Accuracy: {epoch_accuracy:.4f}\")\n",
    "    print(\"-\" * 50)\n",
    "    return parameters, loss_history, accuracy_history"
   ]
  },
  {
   "cell_type": "code",
   "execution_count": 64,
   "metadata": {
    "colab": {
     "base_uri": "https://localhost:8080/"
    },
    "id": "YIb4-9eGllGi",
    "outputId": "ead5c84a-6a1d-4c2e-fe64-47345d5f86b5",
    "ExecuteTime": {
     "end_time": "2024-12-07T13:37:14.519099900Z",
     "start_time": "2024-12-07T13:33:20.820915900Z"
    }
   },
   "outputs": [
    {
     "name": "stdout",
     "output_type": "stream",
     "text": [
      "\n",
      "Training with hidden layer size: 128 using mini-batches and batch size of 32\n",
      "--------------------------------------------------\n",
      "Epoch 0, Loss: 0.7590, Accuracy: 0.7465\n",
      "Epoch 5, Loss: 0.4217, Accuracy: 0.8532\n",
      "Epoch 10, Loss: 0.3764, Accuracy: 0.8684\n",
      "Epoch 15, Loss: 0.3486, Accuracy: 0.8782\n",
      "Epoch 20, Loss: 0.3267, Accuracy: 0.8856\n",
      "Epoch 25, Loss: 0.3100, Accuracy: 0.8907\n",
      "Epoch 30, Loss: 0.2953, Accuracy: 0.8952\n",
      "Epoch 35, Loss: 0.2825, Accuracy: 0.9001\n",
      "Epoch 40, Loss: 0.2714, Accuracy: 0.9026\n",
      "Epoch 45, Loss: 0.2609, Accuracy: 0.9071\n",
      "--------------------------------------------------\n",
      "\n",
      "Training with hidden layer size: 128 using full-batch gradient descent\n",
      "--------------------------------------------------\n",
      "Epoch 0, Loss: 2.7228, Accuracy: 0.1053\n",
      "Epoch 5, Loss: 2.3097, Accuracy: 0.1372\n",
      "Epoch 10, Loss: 2.1638, Accuracy: 0.1830\n",
      "Epoch 15, Loss: 2.0599, Accuracy: 0.2486\n",
      "Epoch 20, Loss: 1.9732, Accuracy: 0.3104\n",
      "Epoch 25, Loss: 1.8963, Accuracy: 0.3740\n",
      "Epoch 30, Loss: 1.8266, Accuracy: 0.4275\n",
      "Epoch 35, Loss: 1.7628, Accuracy: 0.4711\n",
      "Epoch 40, Loss: 1.7040, Accuracy: 0.5041\n",
      "Epoch 45, Loss: 1.6498, Accuracy: 0.5273\n",
      "Epoch 49, Loss: 1.6096, Accuracy: 0.5424\n",
      "--------------------------------------------------\n",
      "\n",
      "Mini-Batch Final Loss: 0.2537, Final Accuracy: 0.9098, Time: 215.84 seconds\n",
      "\n",
      "Full-Batch Final Loss: 1.6096, Final Accuracy: 0.5424, Time: 17.85 seconds\n"
     ]
    }
   ],
   "source": [
    "def compare_mini_batch_and_full_batch(X_train, Y_train, hidden_size, epochs=50, batch_size=32):\n",
    "    \"\"\"\n",
    "    Compare the performance of mini-batch gradient descent against full-batch gradient descent.\n",
    "\n",
    "    Parameters:\n",
    "    - X_train: Training data.\n",
    "    - y_train: One-hot encoded labels.\n",
    "    - hidden_size: Number of neurons in the hidden layer.\n",
    "    - epochs: Number of training epochs.\n",
    "    - batch_size: Size of mini-batches for mini-batch gradient descent.\n",
    "    \"\"\"\n",
    "    start_time = time.time()\n",
    "    parameters_mb, loss_history_mb, accuracy_history_mb = train_model_with_mini_batches(\n",
    "        X_train, Y_train, hidden_size, epochs, learning_rate=0.01, batch_size=batch_size\n",
    "    )\n",
    "    end_time = time.time()\n",
    "    time_mb = end_time - start_time\n",
    "\n",
    "    start_time = time.time()\n",
    "    parameters_fb, loss_history_fb, accuracy_history_fb = train_model_full_batch(\n",
    "        X_train, Y_train, hidden_size, epochs, learning_rate=0.01\n",
    "    )\n",
    "    end_time = time.time()\n",
    "    time_fb = end_time - start_time\n",
    "\n",
    "    \n",
    "    final_loss_mb = loss_history_mb[-1]\n",
    "    final_accuracy_mb = accuracy_history_mb[-1]\n",
    "    print(f\"\\nMini-Batch Final Loss: {final_loss_mb:.4f}, Final Accuracy: {final_accuracy_mb:.4f}, Time: {time_mb:.2f} seconds\")\n",
    "    \n",
    "    final_loss_fb = loss_history_fb[-1]\n",
    "    final_accuracy_fb = accuracy_history_fb[-1]\n",
    "    print(f\"\\nFull-Batch Final Loss: {final_loss_fb:.4f}, Final Accuracy: {final_accuracy_fb:.4f}, Time: {time_fb:.2f} seconds\")\n",
    "\n",
    "\n",
    "compare_mini_batch_and_full_batch(x_train,y_train, 128)"
   ]
  },
  {
   "cell_type": "code",
   "execution_count": null,
   "metadata": {
    "ExecuteTime": {
     "start_time": "2024-12-07T13:13:32.093827300Z"
    }
   },
   "outputs": [],
   "source": []
  }
 ],
 "metadata": {
  "colab": {
   "provenance": []
  },
  "kernelspec": {
   "display_name": "Python 3 (ipykernel)",
   "language": "python",
   "name": "python3"
  },
  "language_info": {
   "codemirror_mode": {
    "name": "ipython",
    "version": 3
   },
   "file_extension": ".py",
   "mimetype": "text/x-python",
   "name": "python",
   "nbconvert_exporter": "python",
   "pygments_lexer": "ipython3",
   "version": "3.11.4"
  }
 },
 "nbformat": 4,
 "nbformat_minor": 4
}
